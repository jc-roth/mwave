{
 "cells": [
  {
   "cell_type": "markdown",
   "id": "8b6417c4",
   "metadata": {
    "editable": true,
    "slideshow": {
     "slide_type": ""
    },
    "tags": []
   },
   "source": [
    "# SCI with transverse motion with precomputed Bragg table"
   ]
  },
  {
   "cell_type": "raw",
   "id": "e4f8d615-db55-4c5d-9367-c0844af3734b",
   "metadata": {
    "editable": true,
    "raw_mimetype": "text/restructuredtext",
    "slideshow": {
     "slide_type": ""
    },
    "tags": []
   },
   "source": [
    "We can use the precompute table we made in `this example`_ and the :py:meth:`mwave.geometry.cloud_to_scrbi_ellipse_xy` method to simulate an ellipse with realistic beamsplitters.\n",
    "\n",
    ".. _`this example`: gen_precompute.ipynb\n",
    "\n",
    "First we import the needed libraries"
   ]
  },
  {
   "cell_type": "code",
   "execution_count": 1,
   "id": "642c2d5f-1907-49d0-aeb9-e2257a025d64",
   "metadata": {
    "editable": true,
    "slideshow": {
     "slide_type": ""
    },
    "tags": []
   },
   "outputs": [],
   "source": [
    "import numpy as np\n",
    "from mwave.precompute import load_fast_bragg_evaluator\n",
    "from mwave.geometry import cloud_to_scrbi_ellipse_xy\n",
    "from matplotlib import pyplot as plt"
   ]
  },
  {
   "cell_type": "raw",
   "id": "bfd115d4-0e62-4b4f-a9b5-7af2568a84a3",
   "metadata": {
    "editable": true,
    "raw_mimetype": "text/restructuredtext",
    "slideshow": {
     "slide_type": ""
    },
    "tags": []
   },
   "source": [
    "Now define the initial conditions, load the precompute table we made previously using :py:meth:`mwave.precompute.load_fast_bragg_evaluator`, and define the laser phase and effective Rabi frequency profiles in space."
   ]
  },
  {
   "cell_type": "code",
   "execution_count": 2,
   "id": "a285565b-975f-4716-a384-5f6a993bd8dc",
   "metadata": {
    "editable": true,
    "slideshow": {
     "slide_type": ""
    },
    "tags": []
   },
   "outputs": [],
   "source": [
    "np.random.seed(13703599)\n",
    "\n",
    "npoints = 100000\n",
    "x0 = np.random.randn(npoints)*0.75e-3\n",
    "y0 = np.random.randn(npoints)*0.75e-3\n",
    "z0 = np.random.randn(npoints)*0.75e-3\n",
    "v0 = np.random.randn(npoints)*0.35e-3\n",
    "vx = np.random.randn(npoints)*3.5e-3*1.8\n",
    "vy = np.random.randn(npoints)*3.5e-3*1.8\n",
    "T = 100e-3\n",
    "Tp = 10e-3\n",
    "phi_c = np.linspace(0,2*np.pi)\n",
    "phi_d = np.pi/4\n",
    "Omega0 = 32\n",
    "w0 = 10e-3\n",
    "\n",
    "n_init = 0\n",
    "n_bragg = 5\n",
    "N_bloch = 10\n",
    "\n",
    "bragglookup = load_fast_bragg_evaluator('sig0.247.h5', n_init, n_bragg, N_bloch)\n",
    "\n",
    "def deltalookup(v, n_bragg):\n",
    "    return 4*n_bragg + 4*(v/3.5e-3) # The modification to delta is 4 times the velocity defined in units of recoil velocities\n",
    "\n",
    "def omegalookup(x, y, z):\n",
    "    return Omega0*np.exp(-2*(x**2 + y**2)/(w0**2))\n",
    "\n",
    "# (l)ocal (p)hase (lookup)\n",
    "def lplookup(x, y, z):\n",
    "    wavelen = 852e-9\n",
    "    zR = np.pi*w0**2/wavelen\n",
    "    kk = 2*np.pi/wavelen\n",
    "    return kk*(x**2 + y**2)/(2*zR)\n",
    "\n",
    "x, y = cloud_to_scrbi_ellipse_xy(x0, y0, z0, vx, vy, v0, T, Tp, n_bragg, N_bloch, np.exp(1j*phi_c), np.exp(1j*phi_d), bragglookup, omegalookup, lplookup, deltalookup)"
   ]
  },
  {
   "cell_type": "markdown",
   "id": "9462b5a2-a6a6-40f3-ae2c-1fb721071c98",
   "metadata": {
    "editable": true,
    "slideshow": {
     "slide_type": ""
    },
    "tags": []
   },
   "source": [
    "Now plot and fit the result"
   ]
  },
  {
   "cell_type": "code",
   "execution_count": 3,
   "id": "6d39d0fd-68cd-4dc1-954c-0b6c336a360d",
   "metadata": {
    "editable": true,
    "slideshow": {
     "slide_type": ""
    },
    "tags": []
   },
   "outputs": [
    {
     "data": {
      "image/png": "[encoded data removed]",
      "text/plain": [
       "<Figure size 640x480 with 1 Axes>"
      ]
     },
     "metadata": {},
     "output_type": "display_data"
    },
    {
     "name": "stdout",
     "output_type": "stream",
     "text": [
      "differential phase fit error=-69.106 mRad\n",
      "0.9022853875626692\n",
      "0.8257137521107901\n"
     ]
    }
   ],
   "source": [
    "plt.scatter(x, y)\n",
    "plt.ylim([-1,1])\n",
    "plt.xlim([-1,1])\n",
    "plt.gca().set_aspect('equal')\n",
    "plt.show()\n",
    "\n",
    "from alphautil.analysis import fit_ellipse_coeff\n",
    "from alphautil.ellipse import get_sci_params\n",
    "coeff = fit_ellipse_coeff(x, y)\n",
    "bx, by, Ax, Ay, phi_d_fit = get_sci_params(coeff)\n",
    "\n",
    "print('differential phase fit error=%0.3f mRad' % ((phi_d - phi_d_fit)*1e3))\n",
    "print(Ax)\n",
    "print(Ay)"
   ]
  }
 ],
 "metadata": {
  "kernelspec": {
   "display_name": "Python 3 (ipykernel)",
   "language": "python",
   "name": "python3"
  },
  "language_info": {
   "codemirror_mode": {
    "name": "ipython",
    "version": 3
   },
   "file_extension": ".py",
   "mimetype": "text/x-python",
   "name": "python",
   "nbconvert_exporter": "python",
   "pygments_lexer": "ipython3",
   "version": "3.11.0"
  },
  "widgets": {
   "application/vnd.jupyter.widget-state+json": {
    "state": {},
    "version_major": 2,
    "version_minor": 0
   }
  }
 },
 "nbformat": 4,
 "nbformat_minor": 5
}
